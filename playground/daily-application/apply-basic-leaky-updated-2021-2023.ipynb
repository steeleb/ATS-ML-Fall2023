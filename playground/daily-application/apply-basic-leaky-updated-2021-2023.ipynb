{
 "cells": [
  {
   "cell_type": "markdown",
   "metadata": {},
   "source": [
    "This script takes the basic neural network model to estimate tempearture developed in `NeuralNetworks/_basic_leaky_model.py` and applies it to weather data and static reservoir elements to estimate reservoir temeperature for Granby, Grand, and Shadow Mountain."
   ]
  },
  {
   "cell_type": "code",
   "execution_count": 12,
   "metadata": {},
   "outputs": [
    {
     "name": "stdout",
     "output_type": "stream",
     "text": [
      "11/11 [==============================] - 0s 3ms/step\n",
      "11/11 [==============================] - 0s 3ms/step\n"
     ]
    },
    {
     "name": "stderr",
     "output_type": "stream",
     "text": [
      "2024-10-18 17:10:35.059254: I tensorflow/core/grappler/optimizers/custom_graph_optimizer_registry.cc:114] Plugin optimizer for device_type GPU is enabled.\n",
      "2024-10-18 17:10:35.155241: I tensorflow/core/grappler/optimizers/custom_graph_optimizer_registry.cc:114] Plugin optimizer for device_type GPU is enabled.\n",
      "2024-10-18 17:10:35.248661: I tensorflow/core/grappler/optimizers/custom_graph_optimizer_registry.cc:114] Plugin optimizer for device_type GPU is enabled.\n"
     ]
    },
    {
     "name": "stdout",
     "output_type": "stream",
     "text": [
      "11/11 [==============================] - 0s 3ms/step\n",
      "11/11 [==============================] - 0s 3ms/step\n",
      "11/11 [==============================] - 0s 3ms/step\n"
     ]
    },
    {
     "name": "stderr",
     "output_type": "stream",
     "text": [
      "2024-10-18 17:10:35.348982: I tensorflow/core/grappler/optimizers/custom_graph_optimizer_registry.cc:114] Plugin optimizer for device_type GPU is enabled.\n",
      "2024-10-18 17:10:35.441551: I tensorflow/core/grappler/optimizers/custom_graph_optimizer_registry.cc:114] Plugin optimizer for device_type GPU is enabled.\n",
      "2024-10-18 17:10:35.535973: I tensorflow/core/grappler/optimizers/custom_graph_optimizer_registry.cc:114] Plugin optimizer for device_type GPU is enabled.\n"
     ]
    },
    {
     "name": "stdout",
     "output_type": "stream",
     "text": [
      "11/11 [==============================] - 0s 3ms/step\n",
      "11/11 [==============================] - 0s 3ms/step\n",
      "11/11 [==============================] - 0s 3ms/step\n"
     ]
    },
    {
     "name": "stderr",
     "output_type": "stream",
     "text": [
      "2024-10-18 17:10:35.630688: I tensorflow/core/grappler/optimizers/custom_graph_optimizer_registry.cc:114] Plugin optimizer for device_type GPU is enabled.\n",
      "2024-10-18 17:10:35.724783: I tensorflow/core/grappler/optimizers/custom_graph_optimizer_registry.cc:114] Plugin optimizer for device_type GPU is enabled.\n"
     ]
    },
    {
     "name": "stdout",
     "output_type": "stream",
     "text": [
      "11/11 [==============================] - 0s 3ms/step\n"
     ]
    },
    {
     "name": "stderr",
     "output_type": "stream",
     "text": [
      "2024-10-18 17:10:35.841690: I tensorflow/core/grappler/optimizers/custom_graph_optimizer_registry.cc:114] Plugin optimizer for device_type GPU is enabled.\n"
     ]
    },
    {
     "name": "stdout",
     "output_type": "stream",
     "text": [
      "11/11 [==============================] - 0s 4ms/step\n",
      "11/11 [==============================] - 0s 3ms/step\n"
     ]
    },
    {
     "name": "stderr",
     "output_type": "stream",
     "text": [
      "2024-10-18 17:10:36.236810: I tensorflow/core/grappler/optimizers/custom_graph_optimizer_registry.cc:114] Plugin optimizer for device_type GPU is enabled.\n",
      "2024-10-18 17:10:36.336199: I tensorflow/core/grappler/optimizers/custom_graph_optimizer_registry.cc:114] Plugin optimizer for device_type GPU is enabled.\n",
      "2024-10-18 17:10:36.428311: I tensorflow/core/grappler/optimizers/custom_graph_optimizer_registry.cc:114] Plugin optimizer for device_type GPU is enabled.\n"
     ]
    },
    {
     "name": "stdout",
     "output_type": "stream",
     "text": [
      "11/11 [==============================] - 0s 3ms/step\n",
      "11/11 [==============================] - 0s 3ms/step\n"
     ]
    },
    {
     "name": "stderr",
     "output_type": "stream",
     "text": [
      "2024-10-18 17:10:36.522572: I tensorflow/core/grappler/optimizers/custom_graph_optimizer_registry.cc:114] Plugin optimizer for device_type GPU is enabled.\n",
      "/Users/steeleb/Documents/GitHub/ATS-ML-Fall2023/NeuralNetworks/_basic_leaky_implementation_updated.py:120: SettingWithCopyWarning: \n",
      "A value is trying to be set on a copy of a slice from a DataFrame.\n",
      "Try using .loc[row_indexer,col_indexer] = value instead\n",
      "\n",
      "See the caveats in the documentation: https://pandas.pydata.org/pandas-docs/stable/user_guide/indexing.html#returning-a-view-versus-a-copy\n",
      "  test_selected[\"LOO_ensemble_pred\"] = np.mean(test_selected[['p_act_1', 'p_act_2', 'p_act_3', 'p_act_4', 'p_act_5', 'p_act_6', 'p_act_7', 'p_act_8', 'p_act_9']], axis=1)\n",
      "/Users/steeleb/Documents/GitHub/ATS-ML-Fall2023/NeuralNetworks/_basic_leaky_implementation_updated.py:121: SettingWithCopyWarning: \n",
      "A value is trying to be set on a copy of a slice from a DataFrame.\n",
      "Try using .loc[row_indexer,col_indexer] = value instead\n",
      "\n",
      "See the caveats in the documentation: https://pandas.pydata.org/pandas-docs/stable/user_guide/indexing.html#returning-a-view-versus-a-copy\n",
      "  test_selected[\"ts_ensemble_pred\"] = np.mean(test_selected[['p_act_1_ts', 'p_act_2_ts', 'p_act_3_ts', 'p_act_4_ts']], axis=1)\n",
      "/Users/steeleb/Documents/GitHub/ATS-ML-Fall2023/NeuralNetworks/_basic_leaky_implementation_updated.py:122: SettingWithCopyWarning: \n",
      "A value is trying to be set on a copy of a slice from a DataFrame.\n",
      "Try using .loc[row_indexer,col_indexer] = value instead\n",
      "\n",
      "See the caveats in the documentation: https://pandas.pydata.org/pandas-docs/stable/user_guide/indexing.html#returning-a-view-versus-a-copy\n",
      "  test_selected[\"ensemble_grand_mean_pred\"] = np.mean(test_selected[['p_act_1', 'p_act_2', 'p_act_3', 'p_act_4', 'p_act_5', 'p_act_6', 'p_act_7', 'p_act_8', 'p_act_9', 'p_act_1_ts', 'p_act_2_ts', 'p_act_3_ts', 'p_act_4_ts']], axis=1)\n"
     ]
    }
   ],
   "source": [
    "#high level modules\n",
    "import os\n",
    "import sys\n",
    "import imp\n",
    "import numpy as np\n",
    "import pandas as pd\n",
    "import pickle\n",
    "\n",
    "# ml/ai modules\n",
    "import tensorflow as tf\n",
    "from sklearn.metrics import mean_squared_error\n",
    "from sklearn.metrics import mean_absolute_error\n",
    "# import pydot\n",
    "import matplotlib.pyplot as plt\n",
    "import matplotlib.patches as patches\n",
    "import matplotlib.colors as colors\n",
    "\n",
    "# custom modules\n",
    "this_dir = \"/Users/steeleb/Documents/GitHub/ATS-ML-Fall2023/\"\n",
    "imp.load_source(\"universals\", os.path.join(this_dir, \"universal_functions.py\"))\n",
    "from universals import load_pickle_file, predict_values_test\n",
    "imp.load_source(\"hindcast\", os.path.join(this_dir, \"NeuralNetworks/_basic_leaky_implementation_updated.py\"))\n",
    "from hindcast import test_ensemble, test_ensemble_ts"
   ]
  },
  {
   "cell_type": "code",
   "execution_count": 13,
   "metadata": {},
   "outputs": [],
   "source": [
    "test_ensemble.to_csv(os.path.join(\"~/Documents/GitHub/NASA-NW/data/NN_train_val_test/regional_daily_temp/\", \"updated_test_ensemble.csv\"))\n",
    "test_ensemble_ts.to_csv(os.path.join(\"~/Documents/GitHub/NASA-NW/data/NN_train_val_test/regional_daily_temp/\", \"updated_test_ensemble_ts.csv\"))"
   ]
  },
  {
   "cell_type": "markdown",
   "metadata": {},
   "source": [
    "First, we'll load the LOO models that we saved from the `NeuralNetworks/_basic_leaky_model.py` script."
   ]
  },
  {
   "cell_type": "code",
   "execution_count": 15,
   "metadata": {},
   "outputs": [],
   "source": [
    "# model directory path\n",
    "model_dir = '/Users/steeleb/OneDrive - Colostate/NASA-Northern/data/NN_train_val_test/regional_daily_temp/models/basic_leaky_updated/'\n",
    "\n",
    "models = [f for f in os.listdir(model_dir) if 'model' in f]\n",
    "\n",
    "models = [f for f in models if 'ts' in f]\n",
    "models.sort()\n",
    "\n",
    "model1 = load_pickle_file(models[0], model_dir)\n",
    "model2 = load_pickle_file(models[1], model_dir)\n",
    "model3 = load_pickle_file(models[2], model_dir)\n",
    "model4 = load_pickle_file(models[3], model_dir)\n"
   ]
  },
  {
   "cell_type": "markdown",
   "metadata": {},
   "source": [
    "And now we'll read in the weather data and reservoir elements."
   ]
  },
  {
   "cell_type": "code",
   "execution_count": 33,
   "metadata": {},
   "outputs": [],
   "source": [
    "app_dir = \"~/OneDrive - Colostate/NASA-Northern/data/NN_train_val_test/regional_daily_temp/application/\"\n",
    "standardized_df = pd.read_csv(os.path.join(app_dir, \"application_dataset_2023_standardized.csv\"))\n",
    "#standardized_df = standardized_df.set_index(\"index\")\n",
    "standardized_df\n",
    "\n",
    "df_pred = pd.read_csv(os.path.join(app_dir, \"application_dataset_2023.csv\"))"
   ]
  },
  {
   "cell_type": "markdown",
   "metadata": {},
   "source": [
    "And apply the 6 models to the application dataset... but first we'll need to grab the mean/standard deviation values for back calculating the temperature from standardized values. "
   ]
  },
  {
   "cell_type": "code",
   "execution_count": 26,
   "metadata": {},
   "outputs": [
    {
     "name": "stdout",
     "output_type": "stream",
     "text": [
      " 126/4566 [..............................] - ETA: 5s"
     ]
    },
    {
     "name": "stderr",
     "output_type": "stream",
     "text": [
      "2024-10-18 17:55:50.911036: I tensorflow/core/grappler/optimizers/custom_graph_optimizer_registry.cc:114] Plugin optimizer for device_type GPU is enabled.\n"
     ]
    },
    {
     "name": "stdout",
     "output_type": "stream",
     "text": [
      "4566/4566 [==============================] - 5s 1ms/step\n",
      " 128/4566 [..............................] - ETA: 5s"
     ]
    },
    {
     "name": "stderr",
     "output_type": "stream",
     "text": [
      "2024-10-18 17:55:57.530381: I tensorflow/core/grappler/optimizers/custom_graph_optimizer_registry.cc:114] Plugin optimizer for device_type GPU is enabled.\n"
     ]
    },
    {
     "name": "stdout",
     "output_type": "stream",
     "text": [
      "4566/4566 [==============================] - 5s 1ms/step\n",
      " 122/4566 [..............................] - ETA: 5s"
     ]
    },
    {
     "name": "stderr",
     "output_type": "stream",
     "text": [
      "2024-10-18 17:56:03.195457: I tensorflow/core/grappler/optimizers/custom_graph_optimizer_registry.cc:114] Plugin optimizer for device_type GPU is enabled.\n"
     ]
    },
    {
     "name": "stdout",
     "output_type": "stream",
     "text": [
      "4566/4566 [==============================] - 5s 1ms/step\n",
      " 130/4566 [..............................] - ETA: 5s"
     ]
    },
    {
     "name": "stderr",
     "output_type": "stream",
     "text": [
      "2024-10-18 17:56:08.998727: I tensorflow/core/grappler/optimizers/custom_graph_optimizer_registry.cc:114] Plugin optimizer for device_type GPU is enabled.\n"
     ]
    },
    {
     "name": "stdout",
     "output_type": "stream",
     "text": [
      "4566/4566 [==============================] - 5s 1ms/step\n"
     ]
    }
   ],
   "source": [
    "nn_dir = \"~/OneDrive - Colostate/NASA-Northern/data/NN_train_val_test/regional_daily_temp/\"\n",
    "fn = os.path.join(nn_dir, \"mean_std_training_v2024-10-18.csv\")\n",
    "mean_std_df = pd.read_csv(fn)\n",
    "mean_std_df = mean_std_df.set_index(\"Unnamed: 0\")\n",
    "mean_t = mean_std_df.loc[\"value\"][\"mean\"]\n",
    "std_t = mean_std_df.loc[\"value\"][\"std\"]\n",
    "\n",
    "model_1_pred = predict_values_test(model1, standardized_df, mean_t, std_t)\n",
    "model_2_pred = predict_values_test(model2, standardized_df, mean_t, std_t)\n",
    "model_3_pred = predict_values_test(model3, standardized_df, mean_t, std_t)\n",
    "model_4_pred = predict_values_test(model4, standardized_df, mean_t, std_t)\n"
   ]
  },
  {
   "cell_type": "code",
   "execution_count": 34,
   "metadata": {},
   "outputs": [
    {
     "data": {
      "text/html": [
       "<div>\n",
       "<style scoped>\n",
       "    .dataframe tbody tr th:only-of-type {\n",
       "        vertical-align: middle;\n",
       "    }\n",
       "\n",
       "    .dataframe tbody tr th {\n",
       "        vertical-align: top;\n",
       "    }\n",
       "\n",
       "    .dataframe thead th {\n",
       "        text-align: right;\n",
       "    }\n",
       "</style>\n",
       "<table border=\"1\" class=\"dataframe\">\n",
       "  <thead>\n",
       "    <tr style=\"text-align: right;\">\n",
       "      <th></th>\n",
       "      <th>feature</th>\n",
       "      <th>area</th>\n",
       "      <th>shoreline_length</th>\n",
       "      <th>max_depth</th>\n",
       "      <th>date</th>\n",
       "      <th>tot_precip_mm_1</th>\n",
       "      <th>max_temp_degC_1</th>\n",
       "      <th>mean_temp_degC_1</th>\n",
       "      <th>min_temp_degC_1</th>\n",
       "      <th>tot_sol_rad_Wpm2_1</th>\n",
       "      <th>...</th>\n",
       "      <th>mean_temp_degC_10</th>\n",
       "      <th>min_temp_degC_10</th>\n",
       "      <th>tot_sol_rad_Wpm2_10</th>\n",
       "      <th>min_wind_mps_10</th>\n",
       "      <th>mean_wind_mps_10</th>\n",
       "      <th>max_wind_mps_10</th>\n",
       "      <th>model_1</th>\n",
       "      <th>model_2</th>\n",
       "      <th>model_3</th>\n",
       "      <th>model_4</th>\n",
       "    </tr>\n",
       "  </thead>\n",
       "  <tbody>\n",
       "    <tr>\n",
       "      <th>0</th>\n",
       "      <td>Carter Lake</td>\n",
       "      <td>1100</td>\n",
       "      <td>12.0</td>\n",
       "      <td>180</td>\n",
       "      <td>1984-01-02</td>\n",
       "      <td>0.0000</td>\n",
       "      <td>0.49</td>\n",
       "      <td>-3.722083</td>\n",
       "      <td>-7.59</td>\n",
       "      <td>2236.252</td>\n",
       "      <td>...</td>\n",
       "      <td>NaN</td>\n",
       "      <td>NaN</td>\n",
       "      <td>NaN</td>\n",
       "      <td>NaN</td>\n",
       "      <td>NaN</td>\n",
       "      <td>NaN</td>\n",
       "      <td>NaN</td>\n",
       "      <td>NaN</td>\n",
       "      <td>NaN</td>\n",
       "      <td>NaN</td>\n",
       "    </tr>\n",
       "    <tr>\n",
       "      <th>1</th>\n",
       "      <td>Carter Lake</td>\n",
       "      <td>1100</td>\n",
       "      <td>12.0</td>\n",
       "      <td>180</td>\n",
       "      <td>1984-01-03</td>\n",
       "      <td>0.0000</td>\n",
       "      <td>2.73</td>\n",
       "      <td>-3.777917</td>\n",
       "      <td>-8.35</td>\n",
       "      <td>2286.680</td>\n",
       "      <td>...</td>\n",
       "      <td>NaN</td>\n",
       "      <td>NaN</td>\n",
       "      <td>NaN</td>\n",
       "      <td>NaN</td>\n",
       "      <td>NaN</td>\n",
       "      <td>NaN</td>\n",
       "      <td>NaN</td>\n",
       "      <td>NaN</td>\n",
       "      <td>NaN</td>\n",
       "      <td>NaN</td>\n",
       "    </tr>\n",
       "    <tr>\n",
       "      <th>2</th>\n",
       "      <td>Carter Lake</td>\n",
       "      <td>1100</td>\n",
       "      <td>12.0</td>\n",
       "      <td>180</td>\n",
       "      <td>1984-01-04</td>\n",
       "      <td>0.0000</td>\n",
       "      <td>6.17</td>\n",
       "      <td>2.323333</td>\n",
       "      <td>-1.94</td>\n",
       "      <td>2177.570</td>\n",
       "      <td>...</td>\n",
       "      <td>NaN</td>\n",
       "      <td>NaN</td>\n",
       "      <td>NaN</td>\n",
       "      <td>NaN</td>\n",
       "      <td>NaN</td>\n",
       "      <td>NaN</td>\n",
       "      <td>NaN</td>\n",
       "      <td>NaN</td>\n",
       "      <td>NaN</td>\n",
       "      <td>NaN</td>\n",
       "    </tr>\n",
       "    <tr>\n",
       "      <th>3</th>\n",
       "      <td>Carter Lake</td>\n",
       "      <td>1100</td>\n",
       "      <td>12.0</td>\n",
       "      <td>180</td>\n",
       "      <td>1984-01-05</td>\n",
       "      <td>0.0000</td>\n",
       "      <td>7.10</td>\n",
       "      <td>3.937083</td>\n",
       "      <td>1.75</td>\n",
       "      <td>2182.700</td>\n",
       "      <td>...</td>\n",
       "      <td>NaN</td>\n",
       "      <td>NaN</td>\n",
       "      <td>NaN</td>\n",
       "      <td>NaN</td>\n",
       "      <td>NaN</td>\n",
       "      <td>NaN</td>\n",
       "      <td>NaN</td>\n",
       "      <td>NaN</td>\n",
       "      <td>NaN</td>\n",
       "      <td>NaN</td>\n",
       "    </tr>\n",
       "    <tr>\n",
       "      <th>4</th>\n",
       "      <td>Carter Lake</td>\n",
       "      <td>1100</td>\n",
       "      <td>12.0</td>\n",
       "      <td>180</td>\n",
       "      <td>1984-01-06</td>\n",
       "      <td>0.0000</td>\n",
       "      <td>8.33</td>\n",
       "      <td>5.630000</td>\n",
       "      <td>4.00</td>\n",
       "      <td>2207.436</td>\n",
       "      <td>...</td>\n",
       "      <td>NaN</td>\n",
       "      <td>NaN</td>\n",
       "      <td>NaN</td>\n",
       "      <td>NaN</td>\n",
       "      <td>NaN</td>\n",
       "      <td>NaN</td>\n",
       "      <td>NaN</td>\n",
       "      <td>NaN</td>\n",
       "      <td>NaN</td>\n",
       "      <td>NaN</td>\n",
       "    </tr>\n",
       "    <tr>\n",
       "      <th>...</th>\n",
       "      <td>...</td>\n",
       "      <td>...</td>\n",
       "      <td>...</td>\n",
       "      <td>...</td>\n",
       "      <td>...</td>\n",
       "      <td>...</td>\n",
       "      <td>...</td>\n",
       "      <td>...</td>\n",
       "      <td>...</td>\n",
       "      <td>...</td>\n",
       "      <td>...</td>\n",
       "      <td>...</td>\n",
       "      <td>...</td>\n",
       "      <td>...</td>\n",
       "      <td>...</td>\n",
       "      <td>...</td>\n",
       "      <td>...</td>\n",
       "      <td>...</td>\n",
       "      <td>...</td>\n",
       "      <td>...</td>\n",
       "      <td>...</td>\n",
       "    </tr>\n",
       "    <tr>\n",
       "      <th>146095</th>\n",
       "      <td>Green Mountain Reservoir</td>\n",
       "      <td>2130</td>\n",
       "      <td>19.0</td>\n",
       "      <td>524</td>\n",
       "      <td>2023-12-28</td>\n",
       "      <td>0.0000</td>\n",
       "      <td>-3.70</td>\n",
       "      <td>-9.175417</td>\n",
       "      <td>-11.63</td>\n",
       "      <td>2322.858</td>\n",
       "      <td>...</td>\n",
       "      <td>-4.775500</td>\n",
       "      <td>-16.08</td>\n",
       "      <td>20713.830</td>\n",
       "      <td>3.309038</td>\n",
       "      <td>4.767988</td>\n",
       "      <td>6.561053</td>\n",
       "      <td>5.546297</td>\n",
       "      <td>5.392278</td>\n",
       "      <td>5.470607</td>\n",
       "      <td>5.878611</td>\n",
       "    </tr>\n",
       "    <tr>\n",
       "      <th>146096</th>\n",
       "      <td>Green Mountain Reservoir</td>\n",
       "      <td>2130</td>\n",
       "      <td>19.0</td>\n",
       "      <td>524</td>\n",
       "      <td>2023-12-29</td>\n",
       "      <td>0.0021</td>\n",
       "      <td>-0.89</td>\n",
       "      <td>-6.348333</td>\n",
       "      <td>-10.45</td>\n",
       "      <td>2285.670</td>\n",
       "      <td>...</td>\n",
       "      <td>-5.396958</td>\n",
       "      <td>-16.08</td>\n",
       "      <td>20722.688</td>\n",
       "      <td>3.279462</td>\n",
       "      <td>4.804687</td>\n",
       "      <td>6.649800</td>\n",
       "      <td>5.765578</td>\n",
       "      <td>5.444846</td>\n",
       "      <td>5.691746</td>\n",
       "      <td>5.857488</td>\n",
       "    </tr>\n",
       "    <tr>\n",
       "      <th>146097</th>\n",
       "      <td>Green Mountain Reservoir</td>\n",
       "      <td>2130</td>\n",
       "      <td>19.0</td>\n",
       "      <td>524</td>\n",
       "      <td>2023-12-30</td>\n",
       "      <td>0.0008</td>\n",
       "      <td>1.25</td>\n",
       "      <td>-3.667500</td>\n",
       "      <td>-5.71</td>\n",
       "      <td>2316.980</td>\n",
       "      <td>...</td>\n",
       "      <td>-5.812750</td>\n",
       "      <td>-16.08</td>\n",
       "      <td>20803.264</td>\n",
       "      <td>3.295602</td>\n",
       "      <td>4.759350</td>\n",
       "      <td>6.487942</td>\n",
       "      <td>6.622177</td>\n",
       "      <td>5.952028</td>\n",
       "      <td>6.064677</td>\n",
       "      <td>5.927972</td>\n",
       "    </tr>\n",
       "    <tr>\n",
       "      <th>146098</th>\n",
       "      <td>Green Mountain Reservoir</td>\n",
       "      <td>2130</td>\n",
       "      <td>19.0</td>\n",
       "      <td>524</td>\n",
       "      <td>2023-12-31</td>\n",
       "      <td>0.0000</td>\n",
       "      <td>2.27</td>\n",
       "      <td>-3.362917</td>\n",
       "      <td>-6.12</td>\n",
       "      <td>2314.360</td>\n",
       "      <td>...</td>\n",
       "      <td>-6.134125</td>\n",
       "      <td>-16.08</td>\n",
       "      <td>20900.416</td>\n",
       "      <td>3.244472</td>\n",
       "      <td>4.840755</td>\n",
       "      <td>6.575797</td>\n",
       "      <td>7.089345</td>\n",
       "      <td>6.102879</td>\n",
       "      <td>6.118093</td>\n",
       "      <td>6.030062</td>\n",
       "    </tr>\n",
       "    <tr>\n",
       "      <th>146099</th>\n",
       "      <td>Green Mountain Reservoir</td>\n",
       "      <td>2130</td>\n",
       "      <td>19.0</td>\n",
       "      <td>524</td>\n",
       "      <td>2024-01-01</td>\n",
       "      <td>0.0000</td>\n",
       "      <td>1.65</td>\n",
       "      <td>-2.910833</td>\n",
       "      <td>-5.87</td>\n",
       "      <td>2109.716</td>\n",
       "      <td>...</td>\n",
       "      <td>-6.288333</td>\n",
       "      <td>-16.08</td>\n",
       "      <td>20870.510</td>\n",
       "      <td>3.107512</td>\n",
       "      <td>4.725121</td>\n",
       "      <td>6.374397</td>\n",
       "      <td>7.304605</td>\n",
       "      <td>5.418044</td>\n",
       "      <td>5.513407</td>\n",
       "      <td>5.709841</td>\n",
       "    </tr>\n",
       "  </tbody>\n",
       "</table>\n",
       "<p>146100 rows × 41 columns</p>\n",
       "</div>"
      ],
      "text/plain": [
       "                         feature  area  shoreline_length  max_depth  \\\n",
       "0                    Carter Lake  1100              12.0        180   \n",
       "1                    Carter Lake  1100              12.0        180   \n",
       "2                    Carter Lake  1100              12.0        180   \n",
       "3                    Carter Lake  1100              12.0        180   \n",
       "4                    Carter Lake  1100              12.0        180   \n",
       "...                          ...   ...               ...        ...   \n",
       "146095  Green Mountain Reservoir  2130              19.0        524   \n",
       "146096  Green Mountain Reservoir  2130              19.0        524   \n",
       "146097  Green Mountain Reservoir  2130              19.0        524   \n",
       "146098  Green Mountain Reservoir  2130              19.0        524   \n",
       "146099  Green Mountain Reservoir  2130              19.0        524   \n",
       "\n",
       "              date  tot_precip_mm_1  max_temp_degC_1  mean_temp_degC_1  \\\n",
       "0       1984-01-02           0.0000             0.49         -3.722083   \n",
       "1       1984-01-03           0.0000             2.73         -3.777917   \n",
       "2       1984-01-04           0.0000             6.17          2.323333   \n",
       "3       1984-01-05           0.0000             7.10          3.937083   \n",
       "4       1984-01-06           0.0000             8.33          5.630000   \n",
       "...            ...              ...              ...               ...   \n",
       "146095  2023-12-28           0.0000            -3.70         -9.175417   \n",
       "146096  2023-12-29           0.0021            -0.89         -6.348333   \n",
       "146097  2023-12-30           0.0008             1.25         -3.667500   \n",
       "146098  2023-12-31           0.0000             2.27         -3.362917   \n",
       "146099  2024-01-01           0.0000             1.65         -2.910833   \n",
       "\n",
       "        min_temp_degC_1  tot_sol_rad_Wpm2_1  ...  mean_temp_degC_10  \\\n",
       "0                 -7.59            2236.252  ...                NaN   \n",
       "1                 -8.35            2286.680  ...                NaN   \n",
       "2                 -1.94            2177.570  ...                NaN   \n",
       "3                  1.75            2182.700  ...                NaN   \n",
       "4                  4.00            2207.436  ...                NaN   \n",
       "...                 ...                 ...  ...                ...   \n",
       "146095           -11.63            2322.858  ...          -4.775500   \n",
       "146096           -10.45            2285.670  ...          -5.396958   \n",
       "146097            -5.71            2316.980  ...          -5.812750   \n",
       "146098            -6.12            2314.360  ...          -6.134125   \n",
       "146099            -5.87            2109.716  ...          -6.288333   \n",
       "\n",
       "        min_temp_degC_10  tot_sol_rad_Wpm2_10  min_wind_mps_10  \\\n",
       "0                    NaN                  NaN              NaN   \n",
       "1                    NaN                  NaN              NaN   \n",
       "2                    NaN                  NaN              NaN   \n",
       "3                    NaN                  NaN              NaN   \n",
       "4                    NaN                  NaN              NaN   \n",
       "...                  ...                  ...              ...   \n",
       "146095            -16.08            20713.830         3.309038   \n",
       "146096            -16.08            20722.688         3.279462   \n",
       "146097            -16.08            20803.264         3.295602   \n",
       "146098            -16.08            20900.416         3.244472   \n",
       "146099            -16.08            20870.510         3.107512   \n",
       "\n",
       "        mean_wind_mps_10  max_wind_mps_10   model_1   model_2   model_3  \\\n",
       "0                    NaN              NaN       NaN       NaN       NaN   \n",
       "1                    NaN              NaN       NaN       NaN       NaN   \n",
       "2                    NaN              NaN       NaN       NaN       NaN   \n",
       "3                    NaN              NaN       NaN       NaN       NaN   \n",
       "4                    NaN              NaN       NaN       NaN       NaN   \n",
       "...                  ...              ...       ...       ...       ...   \n",
       "146095          4.767988         6.561053  5.546297  5.392278  5.470607   \n",
       "146096          4.804687         6.649800  5.765578  5.444846  5.691746   \n",
       "146097          4.759350         6.487942  6.622177  5.952028  6.064677   \n",
       "146098          4.840755         6.575797  7.089345  6.102879  6.118093   \n",
       "146099          4.725121         6.374397  7.304605  5.418044  5.513407   \n",
       "\n",
       "         model_4  \n",
       "0            NaN  \n",
       "1            NaN  \n",
       "2            NaN  \n",
       "3            NaN  \n",
       "4            NaN  \n",
       "...          ...  \n",
       "146095  5.878611  \n",
       "146096  5.857488  \n",
       "146097  5.927972  \n",
       "146098  6.030062  \n",
       "146099  5.709841  \n",
       "\n",
       "[146100 rows x 41 columns]"
      ]
     },
     "execution_count": 34,
     "metadata": {},
     "output_type": "execute_result"
    }
   ],
   "source": [
    "\n",
    "# Create DataFrames for each model's predictions\n",
    "df_model_1 = pd.DataFrame(model_1_pred, columns=['model_1'])\n",
    "df_model_2 = pd.DataFrame(model_2_pred, columns=['model_2'])\n",
    "df_model_3 = pd.DataFrame(model_3_pred, columns=['model_3'])\n",
    "df_model_4 = pd.DataFrame(model_4_pred, columns=['model_4'])\n",
    "\n",
    "# Concatenate the DataFrames\n",
    "df_pred = pd.concat([df_pred, df_model_1, df_model_2, df_model_3, df_model_4], axis=1)\n",
    "\n",
    "df_pred"
   ]
  },
  {
   "cell_type": "markdown",
   "metadata": {},
   "source": [
    "And then save the file"
   ]
  },
  {
   "cell_type": "code",
   "execution_count": 35,
   "metadata": {},
   "outputs": [],
   "source": [
    "df_pred.to_csv(os.path.join(app_dir, \"model_predictions_2023.csv\"))"
   ]
  }
 ],
 "metadata": {
  "kernelspec": {
   "display_name": "env_ML",
   "language": "python",
   "name": "python3"
  },
  "language_info": {
   "codemirror_mode": {
    "name": "ipython",
    "version": 3
   },
   "file_extension": ".py",
   "mimetype": "text/x-python",
   "name": "python",
   "nbconvert_exporter": "python",
   "pygments_lexer": "ipython3",
   "version": "3.10.13"
  }
 },
 "nbformat": 4,
 "nbformat_minor": 2
}
